{
 "cells": [
  {
   "cell_type": "markdown",
   "metadata": {},
   "source": [
    "Import important libraries"
   ]
  },
  {
   "cell_type": "code",
   "execution_count": 1,
   "metadata": {},
   "outputs": [],
   "source": [
    "import numpy as np\n",
    "import matplotlib.pyplot as plt\n",
    "import pandas as pd\n",
    "import pickle\n",
    "from PIL import Image\n",
    "from random import shuffle\n",
    "from sklearn.model_selection import train_test_split\n",
    "import matplotlib.image as mpimg\n",
    "import random\n",
    "from scipy import ndarray\n",
    "import skimage as sk\n",
    "from skimage import transform\n",
    "from skimage import util\n",
    "from skimage import io"
   ]
  },
  {
   "cell_type": "markdown",
   "metadata": {},
   "source": [
    "Class for dumping and loading pickle files of exceedingly large sizes\n",
    "\n",
    "Reads data byte by byte and writes data byte by byte"
   ]
  },
  {
   "cell_type": "code",
   "execution_count": 2,
   "metadata": {},
   "outputs": [],
   "source": [
    "class MacOSFile(object):\n",
    "\n",
    "    def __init__(self, f):\n",
    "        self.f = f\n",
    "\n",
    "    def __getattr__(self, item):\n",
    "        return getattr(self.f, item)\n",
    "\n",
    "    def read(self, n):\n",
    "        if n >= (1 << 31):\n",
    "            buffer = bytearray(n)\n",
    "            idx = 0\n",
    "            while idx < n:\n",
    "                batch_size = min(n - idx, 1 << 31 - 1)\n",
    "                buffer[idx:idx + batch_size] = self.f.read(batch_size)\n",
    "                idx += batch_size\n",
    "            return buffer\n",
    "        return self.f.read(n)\n",
    "\n",
    "    def write(self, buffer):\n",
    "        n = len(buffer)\n",
    "        print(\"writing total_bytes=%s...\" % n, flush=True)\n",
    "        idx = 0\n",
    "        while idx < n:\n",
    "            batch_size = min(n - idx, 1 << 31 - 1)\n",
    "            print(\"writing bytes [%s, %s)... \" % (idx, idx + batch_size), end=\"\", flush=True)\n",
    "            self.f.write(buffer[idx:idx + batch_size])\n",
    "            print(\"done.\", flush=True)\n",
    "            idx += batch_size\n",
    "\n",
    "\n",
    "def pickle_dump(obj, file_path):\n",
    "    with open(file_path, \"wb\") as f:\n",
    "        return pickle.dump(obj, MacOSFile(f), protocol=pickle.HIGHEST_PROTOCOL)\n",
    "\n",
    "\n",
    "def pickle_load(file_path):\n",
    "    with open(file_path, \"rb\") as f:\n",
    "        return pickle.load(MacOSFile(f))"
   ]
  },
  {
   "cell_type": "markdown",
   "metadata": {},
   "source": [
    "Loading training image data"
   ]
  },
  {
   "cell_type": "code",
   "execution_count": 3,
   "metadata": {},
   "outputs": [],
   "source": [
    "train_data = pickle_load('./data/train_image.pkl')"
   ]
  },
  {
   "cell_type": "markdown",
   "metadata": {},
   "source": [
    "Loading training labels"
   ]
  },
  {
   "cell_type": "code",
   "execution_count": 4,
   "metadata": {},
   "outputs": [],
   "source": [
    "train_label = pickle_load('./data/train_label.pkl')"
   ]
  },
  {
   "cell_type": "markdown",
   "metadata": {},
   "source": [
    "# Analyse training dataset"
   ]
  },
  {
   "cell_type": "code",
   "execution_count": 5,
   "metadata": {},
   "outputs": [
    {
     "name": "stdout",
     "output_type": "stream",
     "text": [
      "<class 'list'>\n",
      "8000\n",
      "<class 'list'>\n",
      "784\n"
     ]
    }
   ],
   "source": [
    "print(type(train_data))\n",
    "print(len(train_data))\n",
    "print(type(train_data[0]))\n",
    "print(len(train_data[0]))"
   ]
  },
  {
   "cell_type": "code",
   "execution_count": 6,
   "metadata": {},
   "outputs": [
    {
     "name": "stdout",
     "output_type": "stream",
     "text": [
      "<class 'list'>\n",
      "8000\n"
     ]
    }
   ],
   "source": [
    "print(type(train_label))\n",
    "print(len(train_label))"
   ]
  },
  {
   "cell_type": "code",
   "execution_count": 7,
   "metadata": {},
   "outputs": [
    {
     "name": "stdout",
     "output_type": "stream",
     "text": [
      "{0, 2, 3, 6}\n",
      "label 0:  2000\n",
      "label 2:  2000\n",
      "label 3:  2000\n",
      "label 6:  2000\n"
     ]
    }
   ],
   "source": [
    "st = set()\n",
    "ct0 = 0\n",
    "ct2 = 0\n",
    "ct3 = 0\n",
    "ct6 = 0\n",
    "for x in train_label:\n",
    "    st.add(x)\n",
    "    if x == 0:\n",
    "        ct0 += 1\n",
    "    if x == 2:\n",
    "        ct2 += 1\n",
    "    if x == 3:\n",
    "        ct3 += 1\n",
    "    if x == 6:\n",
    "        ct6 += 1\n",
    "print(st)\n",
    "print(\"label 0: \", ct0)\n",
    "print(\"label 2: \", ct2)\n",
    "print(\"label 3: \", ct3)\n",
    "print(\"label 6: \", ct6)"
   ]
  },
  {
   "cell_type": "markdown",
   "metadata": {},
   "source": [
    "Training dataset has 8000 lists of size=784. A rough assumption is that these might be images which have been flattened. But we may be wrong!! For this, we have to get the factors of 784(which might be the dimensions of the image).\n",
    "\n",
    "1 × 784 = 784\n",
    "\n",
    "2 × 392 = 784\n",
    "\n",
    "4 × 196 = 784\n",
    "\n",
    "7 × 112 = 784\n",
    "\n",
    "8 × 98 = 784\n",
    "\n",
    "14 × 56 = 784\n",
    "\n",
    "16 × 49 = 784\n",
    "\n",
    "28 × 28 = 784\n",
    "\n",
    "Lets try 28 x 28 images first."
   ]
  },
  {
   "cell_type": "code",
   "execution_count": 8,
   "metadata": {},
   "outputs": [],
   "source": [
    "image_test = train_data[2314] #Any random image chosen(not important)"
   ]
  },
  {
   "cell_type": "code",
   "execution_count": 9,
   "metadata": {},
   "outputs": [],
   "source": [
    "image_test = np.array(image_test)"
   ]
  },
  {
   "cell_type": "code",
   "execution_count": 10,
   "metadata": {},
   "outputs": [],
   "source": [
    "image_test = np.reshape(image_test , (28,28))"
   ]
  },
  {
   "cell_type": "code",
   "execution_count": 11,
   "metadata": {},
   "outputs": [
    {
     "data": {
      "image/png": "[encoded data removed]",
      "text/plain": [
       "<Figure size 432x288 with 1 Axes>"
      ]
     },
     "metadata": {
      "needs_background": "light"
     },
     "output_type": "display_data"
    }
   ],
   "source": [
    "plt.imshow(image_test, cmap=\"gray\")\n",
    "plt.show()"
   ]
  },
  {
   "cell_type": "markdown",
   "metadata": {},
   "source": [
    "Hola!! It seems we were right all along. These are actually images of size 28 x 28 pixels. We plot some more images and get the idea that these are images of clothes. Especially upper body clothes. Using our previous knowledge in the field of Deep Learning and Computer Vision, we come to the conclusion that this dataset is a subset of the FashionMNIST dataset. \n",
    "\n",
    "However, since we are not allowed to augment the dataset using external sources, we wont be doing that at all. However, this dataset has only 2000 images for 4 classes. We will have to augment it as the original dataset contained around 6000 images for 10 classes. "
   ]
  },
  {
   "cell_type": "markdown",
   "metadata": {},
   "source": [
    "# Data Augmentation"
   ]
  },
  {
   "cell_type": "markdown",
   "metadata": {},
   "source": [
    "Shuffle the dataset properly"
   ]
  },
  {
   "cell_type": "code",
   "execution_count": 12,
   "metadata": {},
   "outputs": [],
   "source": [
    "temp_for_shuffle = []\n",
    "for i in range(len(train_data)):\n",
    "    tup = (train_data[i], train_label[i])\n",
    "    temp_for_shuffle.append(tup)"
   ]
  },
  {
   "cell_type": "code",
   "execution_count": 13,
   "metadata": {},
   "outputs": [],
   "source": [
    "shuffle(temp_for_shuffle)\n",
    "shuffle(temp_for_shuffle)"
   ]
  },
  {
   "cell_type": "markdown",
   "metadata": {},
   "source": [
    "Append the shuffled dataset into numpy arrays of X and y"
   ]
  },
  {
   "cell_type": "code",
   "execution_count": 14,
   "metadata": {},
   "outputs": [],
   "source": [
    "X = []\n",
    "y = []\n",
    "for i in range(len(temp_for_shuffle)):\n",
    "    y.append(temp_for_shuffle[i][1])\n",
    "    X.append(np.reshape(np.array(temp_for_shuffle[i][0]), (28,28)))"
   ]
  },
  {
   "cell_type": "code",
   "execution_count": 15,
   "metadata": {},
   "outputs": [],
   "source": [
    "y = np.array(y)\n",
    "X = np.array(X)"
   ]
  },
  {
   "cell_type": "code",
   "execution_count": 16,
   "metadata": {},
   "outputs": [
    {
     "data": {
      "text/plain": [
       "(8000,)"
      ]
     },
     "execution_count": 16,
     "metadata": {},
     "output_type": "execute_result"
    }
   ],
   "source": [
    "y.shape"
   ]
  },
  {
   "cell_type": "code",
   "execution_count": 17,
   "metadata": {},
   "outputs": [
    {
     "data": {
      "text/plain": [
       "(8000, 28, 28)"
      ]
     },
     "execution_count": 17,
     "metadata": {},
     "output_type": "execute_result"
    }
   ],
   "source": [
    "X.shape"
   ]
  },
  {
   "cell_type": "markdown",
   "metadata": {},
   "source": [
    "Since X contains grayscale images, we need to scale them between 0 and 1 before feeding them into any deep learning model."
   ]
  },
  {
   "cell_type": "code",
   "execution_count": 18,
   "metadata": {},
   "outputs": [],
   "source": [
    "X = X / 255"
   ]
  },
  {
   "cell_type": "markdown",
   "metadata": {},
   "source": [
    "Every deep learning model requires that the variable to be predicted should be one hot encoded. For that to be there, we need to change the labels from 0,2,3,6 to be 0,1,2,3. For this, we maintain a small dictionary and pickle it along with the augmented dataset as well."
   ]
  },
  {
   "cell_type": "code",
   "execution_count": 19,
   "metadata": {},
   "outputs": [],
   "source": [
    "dict = {\n",
    "    0:0,\n",
    "    1:2,\n",
    "    2:3,\n",
    "    3:6\n",
    "}"
   ]
  },
  {
   "cell_type": "code",
   "execution_count": 20,
   "metadata": {},
   "outputs": [
    {
     "name": "stdout",
     "output_type": "stream",
     "text": [
      "Updated labels in the form of [0,1,2,3]:  [1 1 2 ... 3 1 0]\n"
     ]
    }
   ],
   "source": [
    "y_new = []\n",
    "for x in y:\n",
    "    if x == 0:\n",
    "        y_new.append(0)\n",
    "    if x == 2:\n",
    "        y_new.append(1)\n",
    "    if x == 3:\n",
    "        y_new.append(2)\n",
    "    if x == 6:\n",
    "        y_new.append(3)\n",
    "y = np.array(y_new)\n",
    "print(\"Updated labels in the form of [0,1,2,3]: \", y)"
   ]
  },
  {
   "cell_type": "markdown",
   "metadata": {},
   "source": [
    "One hot encode the labels"
   ]
  },
  {
   "cell_type": "code",
   "execution_count": 21,
   "metadata": {},
   "outputs": [],
   "source": [
    "n_values = np.max(y) + 1\n",
    "y_new = np.eye(n_values)[y]\n",
    "y = y_new"
   ]
  },
  {
   "cell_type": "code",
   "execution_count": 22,
   "metadata": {},
   "outputs": [
    {
     "name": "stdout",
     "output_type": "stream",
     "text": [
      "[0. 0. 0. 1.]\n",
      "(8000, 4)\n"
     ]
    }
   ],
   "source": [
    "print(y[2314]) #Any random number(doesn't matter)\n",
    "print(y.shape)"
   ]
  },
  {
   "cell_type": "markdown",
   "metadata": {},
   "source": [
    "## Augmenting the dataset using rotation and flipping"
   ]
  },
  {
   "cell_type": "code",
   "execution_count": 23,
   "metadata": {},
   "outputs": [],
   "source": [
    "\"\"\"\n",
    "Pick a random degree of rotation between 25% on the left and 25% on the right\n",
    "\"\"\"\n",
    "def random_rotation(image_array: ndarray):\n",
    "    random_degree = random.uniform(-25, 25)\n",
    "    return sk.transform.rotate(image_array, random_degree)\n",
    "\n",
    "\"\"\"\n",
    "Vertical flipping is as easy as flipping the image array of pixels !\n",
    "\"\"\"\n",
    "def vertical_flip(image_array: ndarray):\n",
    "    return image_array[::-1, :]\n",
    "\n",
    "#dictionary of the transformations we defined earlier\n",
    "available_transformations = {\n",
    "    'rotate': random_rotation,\n",
    "    'vertical_flip': vertical_flip\n",
    "}"
   ]
  },
  {
   "cell_type": "markdown",
   "metadata": {},
   "source": [
    "Augmenting the dataset using flipping and rotation and then appending duplicate labels according to the generated images."
   ]
  },
  {
   "cell_type": "code",
   "execution_count": 24,
   "metadata": {},
   "outputs": [],
   "source": [
    "X_new = []\n",
    "y_new = []\n",
    "for i in range(X.shape[0]):\n",
    "    image_to_transform = X[i]\n",
    "\n",
    "    rotated = available_transformations['rotate'](image_to_transform)\n",
    "    vertical_flipped = available_transformations['vertical_flip'](image_to_transform)\n",
    "    #rot_and_flipped = available_transformations['vertical_flip'](rotated)\n",
    "    \n",
    "    X_new.append(rotated)\n",
    "    X_new.append(vertical_flipped)\n",
    "    X_new.append(image_to_transform)\n",
    "    \n",
    "    y_new.append(y[i])\n",
    "    y_new.append(y[i])\n",
    "    y_new.append(y[i])"
   ]
  },
  {
   "cell_type": "code",
   "execution_count": 25,
   "metadata": {},
   "outputs": [],
   "source": [
    "X_new = np.array(X_new)\n",
    "y_new = np.array(y_new)"
   ]
  },
  {
   "cell_type": "code",
   "execution_count": 26,
   "metadata": {},
   "outputs": [
    {
     "name": "stdout",
     "output_type": "stream",
     "text": [
      "X shape:  (24000, 28, 28)\n",
      "y shape:  (24000, 4)\n"
     ]
    }
   ],
   "source": [
    "X = X_new\n",
    "y = y_new\n",
    "print(\"X shape: \", X.shape)\n",
    "print(\"y shape: \", y.shape)"
   ]
  },
  {
   "cell_type": "markdown",
   "metadata": {},
   "source": [
    "Rehsaping X because Convolutional layers take as input 4D arrays"
   ]
  },
  {
   "cell_type": "code",
   "execution_count": 27,
   "metadata": {},
   "outputs": [],
   "source": [
    "X = np.reshape(X , (24000,28,28,1))"
   ]
  },
  {
   "cell_type": "code",
   "execution_count": 28,
   "metadata": {},
   "outputs": [
    {
     "name": "stdout",
     "output_type": "stream",
     "text": [
      "X shape:  (24000, 28, 28, 1)\n",
      "y shape:  (24000, 4)\n"
     ]
    }
   ],
   "source": [
    "print(\"X shape: \", X.shape)\n",
    "print(\"y shape: \", y.shape)"
   ]
  },
  {
   "cell_type": "markdown",
   "metadata": {},
   "source": [
    "# Splitting into training and validation sets"
   ]
  },
  {
   "cell_type": "code",
   "execution_count": 29,
   "metadata": {},
   "outputs": [],
   "source": [
    "X_train, X_val, y_train, y_val = train_test_split(X, y, test_size=0.3)"
   ]
  },
  {
   "cell_type": "code",
   "execution_count": 30,
   "metadata": {},
   "outputs": [
    {
     "name": "stdout",
     "output_type": "stream",
     "text": [
      "X_train shape:  (16800, 28, 28, 1)\n",
      "y_train shape:  (16800, 4)\n",
      "X_val shape:  (7200, 28, 28, 1)\n",
      "y_val shape:  (7200, 4)\n"
     ]
    }
   ],
   "source": [
    "print(\"X_train shape: \", X_train.shape)\n",
    "print(\"y_train shape: \", y_train.shape)\n",
    "print(\"X_val shape: \", X_val.shape)\n",
    "print(\"y_val shape: \", y_val.shape)"
   ]
  },
  {
   "cell_type": "markdown",
   "metadata": {},
   "source": [
    "# Dumping the augmented dataset in a pickle file"
   ]
  },
  {
   "cell_type": "code",
   "execution_count": 31,
   "metadata": {},
   "outputs": [
    {
     "name": "stdout",
     "output_type": "stream",
     "text": [
      "writing total_bytes=151296376...\n",
      "writing bytes [0, 151296376)... done.\n"
     ]
    }
   ],
   "source": [
    "dataset = {\n",
    "    'X_train': X_train,\n",
    "    'X_val': X_val,\n",
    "    'y_train': y_train,\n",
    "    'y_val': y_val,\n",
    "    'dict': dict\n",
    "}\n",
    "pickle_dump(dataset, './data/dataset_large.pkl')"
   ]
  },
  {
   "cell_type": "code",
   "execution_count": null,
   "metadata": {},
   "outputs": [],
   "source": []
  }
 ],
 "metadata": {
  "kernelspec": {
   "display_name": "Python 3",
   "language": "python",
   "name": "python3"
  },
  "language_info": {
   "codemirror_mode": {
    "name": "ipython",
    "version": 3
   },
   "file_extension": ".py",
   "mimetype": "text/x-python",
   "name": "python",
   "nbconvert_exporter": "python",
   "pygments_lexer": "ipython3",
   "version": "3.6.5"
  }
 },
 "nbformat": 4,
 "nbformat_minor": 2
}
